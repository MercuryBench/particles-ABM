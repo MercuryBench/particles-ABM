{
 "cells": [
  {
   "cell_type": "code",
   "execution_count": 1,
   "id": "722eb027",
   "metadata": {},
   "outputs": [],
   "source": [
    "import sys, os\n",
    "parent_dir = os.path.abspath('..')\n",
    "if parent_dir not in sys.path:\n",
    "    sys.path.insert(0, parent_dir)\n",
    "import numpy as np\n",
    "import matplotlib.pyplot as plt\n",
    "from collections import OrderedDict\n",
    "from particles import distributions as dists\n",
    "from particles import state_space_models as ssm\n",
    "from particles import smc_samplers as smp\n",
    "from particles import kalman\n",
    "from particles import resampling\n",
    "from particles import mcmc\n",
    "from particles import rao_blackwell\n",
    "from particles import plotting_util\n",
    "import particles\n",
    "import corner\n",
    "from math import sqrt, cos, sin, pi\n",
    "import seaborn as sb\n",
    "import matplotlib as mpl\n",
    "mpl.rcParams.update({\n",
    "    \"text.usetex\": True,\n",
    "    \"font.family\": \"serif\",\n",
    "    \"font.serif\": [\"Computer Modern Roman\"],\n",
    "    \"font.size\": 16,  # affects non-LaTeX-rendered text like axis tick labels\n",
    "    \"axes.titlesize\": 18,\n",
    "    \"axes.labelsize\": 16,\n",
    "    \"legend.fontsize\": 14,\n",
    "    \"xtick.labelsize\": 14,\n",
    "    \"ytick.labelsize\": 14,\n",
    "    \"text.latex.preamble\": r\"\\usepackage{amsmath}\\renewcommand{\\rmdefault}{cmr}\\renewcommand{\\sfdefault}{cmss}\\renewcommand{\\ttdefault}{cmtt}\\usepackage{relsize}\",\n",
    "})\n",
    "\n",
    "np.random.seed(1)\n",
    "\n",
    "\n",
    "dt = 0.001 # the fine time scale for Euler Maruyama (so that everything is stable)\n",
    "dt_data = 1. # the time scale at which data is generated in the AC 2d dataset\n",
    "\n",
    "niter = 5000\n",
    "\n",
    "length_data = 200 #50, 200\n",
    "num_particles = 300 #300"
   ]
  },
  {
   "cell_type": "markdown",
   "id": "41598c68",
   "metadata": {},
   "source": [
    "Load data"
   ]
  },
  {
   "cell_type": "code",
   "execution_count": 2,
   "id": "90ac26b1",
   "metadata": {},
   "outputs": [
    {
     "data": {
      "image/png": "[encoded data removed]",
      "text/plain": [
       "<Figure size 640x480 with 1 Axes>"
      ]
     },
     "metadata": {},
     "output_type": "display_data"
    }
   ],
   "source": [
    "voltage = \"4\"\n",
    "number = \"4\"\n",
    "\n",
    "data = np.loadtxt(f\"..\\\\Data\\\\Trajectories_AC_2d\\\\{voltage}Vpp\\\\{voltage}Vpp{number}.txt\")[0:length_data,1:]\n",
    "ys = data-data[0]\n",
    "plt.figure()\n",
    "plt.plot(data[:,0],data[:,1],'-')\n",
    "plt.plot(data[0,0],data[0,1],'r.', markersize=15)\n",
    "plt.axis(\"equal\");\n",
    "plt.savefig(f\"data_colloid_{voltage}Vpp{number}_length{length_data}.png\", dpi=300)"
   ]
  },
  {
   "cell_type": "markdown",
   "id": "f10413bd",
   "metadata": {},
   "source": [
    "ABM class (small modification to allow for finer discretisation of numerical scheme than what we have in data)\n"
   ]
  },
  {
   "cell_type": "code",
   "execution_count": 3,
   "id": "58282a8f",
   "metadata": {},
   "outputs": [],
   "source": [
    "class ABM(rao_blackwell.RBMVLinearGauss):\n",
    "    def __init__(self, **kwargs):\n",
    "        default_parameters = {'D0': 1, 'Drot': 1, 'Dobs': 1}\n",
    "        self.__dict__.update(default_parameters)\n",
    "        self.__dict__.update(kwargs)\n",
    "        num_collate_dt = int(dt_data/dt)  # k\n",
    "        \n",
    "        A = lambda w: np.array([[1., 0., num_collate_dt*dt*cos(w)],[0., 1., num_collate_dt*dt*sin(w)],[0.,0.,1.]])\n",
    "        Gamma = lambda w: np.diag([(num_collate_dt*2*dt*self.D0),(num_collate_dt*2*dt*self.D0),0.00001])\n",
    "        \n",
    "        H = lambda w: np.array([[1,0,0],[0,1,0]])\n",
    "        Sigma = lambda w: np.eye(2)*self.Dobs\n",
    "        m0 = lambda w: np.array([0.,0.,2.])\n",
    "        cov0 = lambda w: np.diag([5.,5.,1.])\n",
    "        PW0 = dists.Uniform(0, 2*pi)\n",
    "        def PW(t, wp):\n",
    "            return dists.Normal(loc=wp, scale=sqrt(self.Drot))\n",
    "        rao_blackwell.RBMVLinearGauss.__init__(self,PW0, PW, A, H, Gamma, Sigma, m0, cov0)\n",
    "        \n",
    "myRB_nd = ABM()\n",
    "prior_dict = {'D0': dists.Gamma(),\n",
    "      'Drot': dists.Gamma(),\n",
    "      'Dobs':dists.Gamma(a=1., b=5)}\n",
    "param_labels=[\"$D_0$\", \"$D_{\\\\text{rot}}$\", \"$D_{\\\\text{obs}}$\"]"
   ]
  },
  {
   "cell_type": "markdown",
   "id": "09c0faf5",
   "metadata": {},
   "source": [
    "do inference"
   ]
  },
  {
   "cell_type": "code",
   "execution_count": null,
   "id": "3af52998",
   "metadata": {},
   "outputs": [
    {
     "name": "stdout",
     "output_type": "stream",
     "text": [
      "t=0, ESS=4494.29, Nx=100\n",
      "t=1, ESS=4021.91, Nx=100\n",
      "t=2, ESS=572.04, Nx=100\n",
      "t=3, Metropolis acc. rate (over 14 steps): 0.086, ESS=3554.43, Nx=100\n"
     ]
    }
   ],
   "source": [
    "my_prior = dists.StructDist(prior_dict)\n",
    "my_SMC2 = smp.SMC2(ssm_cls=ABM, prior=my_prior, data=ys, fk_cls=rao_blackwell.Bootstrap_RaoBlackwell, len_chain=15)\n",
    "my_alg = particles.SMC(fk=my_SMC2, N=num_particles, store_history=True, verbose=100)\n",
    "my_alg.run()\n"
   ]
  },
  {
   "cell_type": "code",
   "execution_count": null,
   "id": "834fa866",
   "metadata": {},
   "outputs": [],
   "source": [
    "with open(f\"result_SMC2_{length_data}.npy\", 'wb') as f:\n",
    "    np.save(f, np.stack([my_alg.X.theta[p] for p in prior_dict.keys()]))\n",
    "    \n",
    "# this also saves the weights    \n",
    "np.savez(f\"result_SMC2_{length_data}.npz\", particles=np.stack([my_alg.X.theta[p] for p in prior_dict.keys()], weights=my_alg.wgts.W)\n"
   ]
  },
  {
   "cell_type": "markdown",
   "id": "72eba324",
   "metadata": {},
   "source": [
    "Load data from last inference run"
   ]
  },
  {
   "cell_type": "code",
   "execution_count": null,
   "id": "a058b1da",
   "metadata": {},
   "outputs": [],
   "source": [
    "with open(f\"result_SMC2_{length_data}.npy\", 'rb') as f:\n",
    "    samples_SMC2 = np.load(f)"
   ]
  },
  {
   "cell_type": "code",
   "execution_count": null,
   "id": "218ded9d",
   "metadata": {},
   "outputs": [],
   "source": [
    "#particles.plotting_util.extended_corner(np.stack([my_alg.X.theta[p] for p in prior_dict.keys()]), prior_dict, my_alg.wgts.W)\n",
    "# save results\n",
    "\n",
    "axes_range = [[0.008, 0.04], [0, 0.16], [0,0.025]]\n",
    "\n",
    "particles.plotting_util.extended_corner(samples_SMC2, prior_dict, my_alg.wgts.W, param_labels=[\"$D_0$\", \"$D_{\\\\text{rot}}$\", \"$D_{\\\\text{obs}}$\"], range=axes_range)\n",
    "plt.savefig(f\"corner_SMC2_data{length_data}.png\", dpi=300)"
   ]
  },
  {
   "cell_type": "code",
   "execution_count": null,
   "id": "90cba373",
   "metadata": {},
   "outputs": [],
   "source": [
    "#plt.figure(figsize=(6,2))\n",
    "#for n, p in enumerate(prior_dict.keys()):\n",
    "#    plt.subplot(1,3,n+1)\n",
    "#    plt.hist(samples_SMC2[n], range=axes_range[n])\n",
    "#plt.tight_layout()    \n",
    "#plt.savefig(f\"marginal_SMC2_data{length_data}.png\", dpi=300)\n",
    "plt.figure(figsize=(6,2))\n",
    "for n, p in enumerate(prior_dict.keys()):\n",
    "    ra = axes_range[n]\n",
    "    plt.subplot(1,3,n+1)\n",
    "    plt.hist(samples_SMC2[n], range=ra, density=True)\n",
    "    plot_ra = np.linspace(ra[0],ra[1],100)\n",
    "    plt.plot(plot_ra, prior_dict[p].pdf(plot_ra), 'r--')\n",
    "    plt.title(param_labels[n])\n",
    "plt.tight_layout()    \n",
    "plt.savefig(f\"marginal_SMC2_data{length_data}.png\", dpi=300)"
   ]
  },
  {
   "cell_type": "code",
   "execution_count": null,
   "id": "4e62afae",
   "metadata": {},
   "outputs": [],
   "source": [
    "my_pmmh = mcmc.PMMH(ssm_cls=ABM, fk_cls=rao_blackwell.Bootstrap_RaoBlackwell, prior=my_prior, data=ys, Nx=num_particles,  niter=20000, verbose=100)\n",
    "my_pmmh.run()"
   ]
  },
  {
   "cell_type": "code",
   "execution_count": null,
   "id": "d7aafdfd",
   "metadata": {},
   "outputs": [],
   "source": [
    "with open(f\"result_PMMH_{length_data}.npy\", 'wb') as f:\n",
    "    np.save(f, np.stack([my_pmmh.chain.theta[p] for p in prior_dict.keys()]))"
   ]
  },
  {
   "cell_type": "code",
   "execution_count": null,
   "id": "68236f57",
   "metadata": {},
   "outputs": [],
   "source": [
    "with open(f\"result_PMMH_{length_data}.npy\", 'rb') as f:\n",
    "    samples_PMMH = np.load(f)"
   ]
  },
  {
   "cell_type": "code",
   "execution_count": null,
   "id": "177ba0db",
   "metadata": {},
   "outputs": [],
   "source": [
    "\n",
    "\n",
    "N_burnin = 2000\n",
    "array_samples_burnin = samples_PMMH[:,N_burnin:]\n",
    "plotting_util.extended_corner(array_samples_burnin, prior_dict, param_labels=[\"$D_0$\", \"$D_{\\\\text{rot}}$\", \"$D_{\\\\text{obs}}$\"], range=axes_range)\n",
    "plt.savefig(f\"corner_PMMH_data{length_data}.png\", dpi=300)"
   ]
  },
  {
   "cell_type": "code",
   "execution_count": null,
   "id": "f32cdb4c",
   "metadata": {},
   "outputs": [],
   "source": [
    "# plt.figure(figsize=(6,2))\n",
    "# for n, p in enumerate(prior_dict.keys()):\n",
    "#     plt.subplot(1,3,n+1)\n",
    "#     plt.hist(array_samples_burnin[n], range=axes_range[n])\n",
    "# plt.tight_layout()    \n",
    "# plt.savefig(f\"marginal_PMMH_data{length_data}.png\", dpi=300)\n",
    "plt.figure(figsize=(6,2))\n",
    "for n, p in enumerate(prior_dict.keys()):\n",
    "    ra = axes_range[n]\n",
    "    plt.subplot(1,3,n+1)\n",
    "    plt.hist(array_samples_burnin[n], range=ra, density=True)\n",
    "    plot_ra = np.linspace(ra[0],ra[1],100)\n",
    "    plt.plot(plot_ra, prior_dict[p].pdf(plot_ra), 'r--')\n",
    "    plt.title(param_labels[n])\n",
    "plt.tight_layout()    \n",
    "plt.savefig(f\"marginal_PMMH_data{length_data}.png\", dpi=300)"
   ]
  },
  {
   "cell_type": "code",
   "execution_count": null,
   "id": "eb8657ae",
   "metadata": {},
   "outputs": [],
   "source": []
  }
 ],
 "metadata": {
  "kernelspec": {
   "display_name": "Python 3 (ipykernel)",
   "language": "python",
   "name": "python3"
  },
  "language_info": {
   "codemirror_mode": {
    "name": "ipython",
    "version": 3
   },
   "file_extension": ".py",
   "mimetype": "text/x-python",
   "name": "python",
   "nbconvert_exporter": "python",
   "pygments_lexer": "ipython3",
   "version": "3.10.9"
  }
 },
 "nbformat": 4,
 "nbformat_minor": 5
}
